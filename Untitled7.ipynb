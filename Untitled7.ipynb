{
 "cells": [
  {
   "cell_type": "code",
   "execution_count": 1,
   "id": "546a3dfb",
   "metadata": {},
   "outputs": [
    {
     "name": "stdout",
     "output_type": "stream",
     "text": [
      "[[-0.00279891+0.03196251j  0.01827409-0.00219941j  0.01827409-0.00219941j]\n",
      " [ 0.01827409-0.00219941j -0.00279891+0.03196251j  0.01827409-0.00219941j]\n",
      " [ 0.01827409-0.00219941j  0.01827409-0.00219941j -0.00279891+0.03196251j]]\n"
     ]
    }
   ],
   "source": [
    "import numpy as np\n",
    "\n",
    "def green_tensor(k, r, r_prime):\n",
    "    # Definimos la función de Green escalar\n",
    "    def g(r, r_prime):\n",
    "        R = np.linalg.norm(r - r_prime)\n",
    "        return np.exp(1j * k * R) / (4 * np.pi * R)\n",
    "\n",
    "    # Derivadas parciales de g\n",
    "    def grad_g(r, r_prime):\n",
    "        R = np.linalg.norm(r - r_prime)\n",
    "        g_val = g(r, r_prime)\n",
    "        grad_g_val = np.empty(3, dtype=complex)\n",
    "        for i in range(3):\n",
    "            grad_g_val[i] = ((1j * k - 1 / R) * (r[i] - r_prime[i]) * g_val) / R\n",
    "        return grad_g_val\n",
    "\n",
    "    def hessian_g(r, r_prime):\n",
    "        R = np.linalg.norm(r - r_prime)\n",
    "        g_val = g(r, r_prime)\n",
    "        hessian_g_val = np.empty((3, 3), dtype=complex)\n",
    "        for i in range(3):\n",
    "            for j in range(3):\n",
    "                if i == j:\n",
    "                    hessian_g_val[i, j] = (g_val * ((-k**2 - (2*1j*k)/R + 2/R**2) * (r[i] - r_prime[i])**2 + (1j*k - 1/R))) / R**2\n",
    "                else:\n",
    "                    hessian_g_val[i, j] = g_val * ((-k**2 - (2*1j*k)/R + 2/R**2) * (r[i] - r_prime[i]) * (r[j] - r_prime[j])) / R**2\n",
    "        return hessian_g_val\n",
    "\n",
    "    g_val = g(r, r_prime)\n",
    "    hessian_g_val = hessian_g(r, r_prime)\n",
    "\n",
    "    # Construir la matriz de Green tensorial\n",
    "    G = np.identity(3, dtype=complex) * g_val + hessian_g_val / k**2\n",
    "\n",
    "    return G\n",
    "\n",
    "# Ejemplo de uso:\n",
    "k = 1.0\n",
    "r = np.array([1.0, 1.0, 1.0])\n",
    "r_prime = np.array([0.0, 0.0, 0.0])\n",
    "\n",
    "G = green_tensor(k, r, r_prime)\n",
    "print(G)\n"
   ]
  },
  {
   "cell_type": "code",
   "execution_count": 2,
   "id": "a510145a",
   "metadata": {},
   "outputs": [
    {
     "name": "stdout",
     "output_type": "stream",
     "text": [
      "Primera derivada numérica:  -0.05961094997203319\n",
      "Primera derivada analítica:  -0.02811440794373609\n",
      "Segunda derivada numérica:  2.357140732600626\n",
      "Segunda derivada analítica:  2.4763862434065698\n"
     ]
    }
   ],
   "source": [
    "import numpy as np\n",
    "\n",
    "# Definimos las funciones\n",
    "def g(r, r_prime, k):\n",
    "    r_diff = np.linalg.norm(r - r_prime)\n",
    "    return np.exp(1j * k * r_diff) / (4 * np.pi * r_diff)\n",
    "\n",
    "def grad_g(r, r_prime, k):\n",
    "    r_diff = r - r_prime\n",
    "    norm_r_diff = np.linalg.norm(r_diff)\n",
    "    factor = (1j * k - 1) / (4 * np.pi * norm_r_diff**3)\n",
    "    return factor * np.exp(1j * k * norm_r_diff) * r_diff\n",
    "\n",
    "def hessian_g(r, r_prime, k):\n",
    "    r_diff = r - r_prime\n",
    "    norm_r_diff = np.linalg.norm(r_diff)\n",
    "    factor1 = (3 - 3 * 1j * k * norm_r_diff - (k * norm_r_diff)**2) / (4 * np.pi * norm_r_diff**5)\n",
    "    factor2 = (1 - 1j * k * norm_r_diff) / (4 * np.pi * norm_r_diff**3)\n",
    "    outer_product = np.outer(r_diff, r_diff)\n",
    "    return np.exp(1j * k * norm_r_diff) * (factor1 * outer_product + factor2 * np.eye(3))\n",
    "\n",
    "# Parámetros\n",
    "k = 2 * np.pi / 0.5\n",
    "r = np.array([1.0, 1.0, 1.0])\n",
    "r_prime = np.array([0.0, 0.0, 0.0])\n",
    "h = 1e-5  # Paso pequeño para diferencias finitas\n",
    "\n",
    "# Diferencias finitas para la primera derivada\n",
    "r_plus_hx = r + np.array([h, 0, 0])\n",
    "first_derivative_numerical = (g(r_plus_hx, r_prime, k) - g(r, r_prime, k)) / h\n",
    "\n",
    "# Diferencias finitas para la segunda derivada\n",
    "r_minus_hx = r - np.array([h, 0, 0])\n",
    "second_derivative_numerical = (g(r_plus_hx, r_prime, k) - 2 * g(r, r_prime, k) + g(r_minus_hx, r_prime, k)) / h**2\n",
    "\n",
    "# Derivadas calculadas analíticamente\n",
    "grad_analytic = grad_g(r, r_prime, k)\n",
    "hessian_analytic = hessian_g(r, r_prime, k)\n",
    "\n",
    "# Comparación\n",
    "print(\"Primera derivada numérica: \", first_derivative_numerical.real)\n",
    "print(\"Primera derivada analítica: \", grad_analytic[0].real)\n",
    "\n",
    "print(\"Segunda derivada numérica: \", second_derivative_numerical.real)\n",
    "print(\"Segunda derivada analítica: \", hessian_analytic[0, 0].real)\n"
   ]
  },
  {
   "cell_type": "code",
   "execution_count": null,
   "id": "c10b8872",
   "metadata": {},
   "outputs": [],
   "source": []
  }
 ],
 "metadata": {
  "kernelspec": {
   "display_name": "Python 3 (ipykernel)",
   "language": "python",
   "name": "python3"
  },
  "language_info": {
   "codemirror_mode": {
    "name": "ipython",
    "version": 3
   },
   "file_extension": ".py",
   "mimetype": "text/x-python",
   "name": "python",
   "nbconvert_exporter": "python",
   "pygments_lexer": "ipython3",
   "version": "3.11.5"
  }
 },
 "nbformat": 4,
 "nbformat_minor": 5
}
